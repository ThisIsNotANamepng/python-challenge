{
 "cells": [
  {
   "cell_type": "code",
   "execution_count": 1,
   "metadata": {},
   "outputs": [],
   "source": [
    "from documanager import Document, Library # import the Document and Library classes"
   ]
  },
  {
   "cell_type": "code",
   "execution_count": 2,
   "metadata": {},
   "outputs": [],
   "source": [
    "path_to_doc1 = r'documents/d1.txt'\n",
    "\n",
    "d1 = Document(path_to_file=path_to_doc1) # create a document object"
   ]
  },
  {
   "cell_type": "code",
   "execution_count": null,
   "metadata": {},
   "outputs": [],
   "source": [
    "print(d1.title) # The title isn't set yet..."
   ]
  },
  {
   "cell_type": "code",
   "execution_count": 3,
   "metadata": {},
   "outputs": [],
   "source": [
    "d1.set_properties()"
   ]
  },
  {
   "cell_type": "code",
   "execution_count": 4,
   "metadata": {},
   "outputs": [
    {
     "name": "stdout",
     "output_type": "stream",
     "text": [
      "Martha: up close & personal\n"
     ]
    }
   ],
   "source": [
    "print(d1.title) # Now it is..."
   ]
  },
  {
   "cell_type": "code",
   "execution_count": null,
   "metadata": {},
   "outputs": [],
   "source": [
    "# lets create a library\n",
    "\n",
    "lib = Library(list_of_docs=[d1], name='My Library')\n",
    "print(lib)"
   ]
  },
  {
   "cell_type": "code",
   "execution_count": null,
   "metadata": {},
   "outputs": [],
   "source": [
    "print(f'\\nThe length of the Library is {len(lib)}') # why does this function return 1?"
   ]
  },
  {
   "cell_type": "markdown",
   "metadata": {},
   "source": [
    "### Challenge 1\n",
    "\n",
    "- Get the following cells to run properly"
   ]
  },
  {
   "cell_type": "code",
   "execution_count": null,
   "metadata": {},
   "outputs": [],
   "source": [
    "print(d1) # should return the title and the date of the document (make it a little neat) (HINT: use the __repr__ method)"
   ]
  },
  {
   "cell_type": "code",
   "execution_count": null,
   "metadata": {},
   "outputs": [],
   "source": [
    "contains_farm = d1.contains_substr_in_body(substr=\"farm\")\n",
    "contains_hello = d1.contains_substr_in_body(substr=\"hello\")\n",
    "\n",
    "print(f'The document body contains the string \"farm\": {contains_farm}') \n",
    "print(f'The document body contains the string \"hello\": {contains_hello}')"
   ]
  },
  {
   "cell_type": "markdown",
   "metadata": {},
   "source": [
    "### Challenge 2 \n",
    "\n",
    "- Finish implementing the ScienceDocument class.\n",
    "- Note that ScienceDocument inherits from Document. We actually call Document's constructor when we do `super().__init__(path_to_file)`.\n",
    "<br/><br/>\n",
    "- Implement the `set_properties()` method for the ScienceDocument class.\n",
    "- Implement the `__repr__()` method for the ScienceDocument class.\n",
    "- Do we need to implement a contains_substr_in_body() method for the ScienceDocument class? Why or why not?\n"
   ]
  },
  {
   "cell_type": "code",
   "execution_count": null,
   "metadata": {},
   "outputs": [],
   "source": [
    "from documanager import # TODO: FILL ME IN"
   ]
  },
  {
   "cell_type": "code",
   "execution_count": null,
   "metadata": {},
   "outputs": [],
   "source": []
  },
  {
   "cell_type": "code",
   "execution_count": null,
   "metadata": {},
   "outputs": [],
   "source": [
    "# try calling the methods as well\n",
    "path_to_d2 = r'/documents/d2.txt'\n",
    "\n",
    "d2 = ScienceDocument(path_to_d2)"
   ]
  },
  {
   "cell_type": "code",
   "execution_count": null,
   "metadata": {},
   "outputs": [],
   "source": [
    "d2.set_properties()"
   ]
  },
  {
   "cell_type": "code",
   "execution_count": null,
   "metadata": {},
   "outputs": [],
   "source": [
    "print(d2)"
   ]
  },
  {
   "cell_type": "code",
   "execution_count": null,
   "metadata": {},
   "outputs": [],
   "source": [
    "d2.contains_substr_in_body()"
   ]
  },
  {
   "cell_type": "markdown",
   "metadata": {},
   "source": [
    "### Challenge 3\n",
    "\n",
    "- Add a condition to the `Library.add_documents()` method that ensures that all properites of a document are set before adding it to the library. The funciton should print a message if the properties are not set (also it should NOT add the document). \n",
    "\n",
    "- **BONUS**: Have the `Library.add_documents()` raise an exception instead of printing a message (HINT: see the `ValueError` exception? You can raise a general exception with the `Exception` class.)"
   ]
  },
  {
   "cell_type": "code",
   "execution_count": null,
   "metadata": {},
   "outputs": [],
   "source": [
    "path_to_d3 = r'documents/d2.txt'\n",
    "\n",
    "d3 = Document(path_to_file=path_to_d3)"
   ]
  },
  {
   "cell_type": "code",
   "execution_count": null,
   "metadata": {},
   "outputs": [],
   "source": [
    "lib.add_documents(d2) # this should print an message if the properites are not set"
   ]
  },
  {
   "cell_type": "markdown",
   "metadata": {},
   "source": [
    "### Challenge 4\n",
    "\n",
    "- Change the `Library` class so that it uses a dictionary to store the documents instead of a list.\n",
    "\n",
    "- This will require changes to the `__init__()` method, the `add_documents()` method, and the `get_all_documents()` method.\n",
    "\n",
    "- Implement the `get_documents_by_title()` method for the `Library` class.\n",
    "\n",
    "- Implement a `search_by_substring()` method for the `Library` class. This function will take a string as an argument and return a list of all documents that contain that string in their body.\n"
   ]
  },
  {
   "cell_type": "code",
   "execution_count": null,
   "metadata": {},
   "outputs": [],
   "source": [
    "# once the library class is changed. create a new library and pass in the two documents that we've created.\n",
    "lib2 = Library(docs=[d1, d2], )"
   ]
  },
  {
   "cell_type": "code",
   "execution_count": 6,
   "metadata": {},
   "outputs": [],
   "source": [
    "d = {'a': 1}"
   ]
  },
  {
   "cell_type": "code",
   "execution_count": null,
   "metadata": {},
   "outputs": [],
   "source": [
    "d[d1.title] = d1"
   ]
  },
  {
   "cell_type": "code",
   "execution_count": null,
   "metadata": {},
   "outputs": [],
   "source": []
  }
 ],
 "metadata": {
  "kernelspec": {
   "display_name": "PythonChallenge",
   "language": "python",
   "name": "python3"
  },
  "language_info": {
   "codemirror_mode": {
    "name": "ipython",
    "version": 3
   },
   "file_extension": ".py",
   "mimetype": "text/x-python",
   "name": "python",
   "nbconvert_exporter": "python",
   "pygments_lexer": "ipython3",
   "version": "3.10.6"
  }
 },
 "nbformat": 4,
 "nbformat_minor": 2
}
